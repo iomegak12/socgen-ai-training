{
 "cells": [
  {
   "cell_type": "code",
   "execution_count": null,
   "id": "b79f5124",
   "metadata": {},
   "outputs": [],
   "source": [
    "from azure.core.credentials import AzureKeyCredential\n",
    "from dotenv import load_dotenv\n",
    "\n",
    "import os"
   ]
  },
  {
   "cell_type": "code",
   "execution_count": null,
   "id": "4e5c0665",
   "metadata": {},
   "outputs": [],
   "source": [
    "load_dotenv(override=True)\n",
    "\n",
    "AZURE_SEARCH_SERVICE=os.getenv(\"AZURE_SEARCH_SERVICE\")\n",
    "AZURE_SEARCH_KEY=os.getenv(\"AZURE_SEARCH_KEY\")\n",
    "AZURE_OPENAI_ENDPOINT=os.getenv(\"AZURE_OPENAI_ENDPOINT\")\n",
    "AZURE_OPENAI_VERSION=os.getenv(\"AZURE_OPENAI_VERSION\")\n",
    "AZURE_OPENAI_KEY=os.getenv(\"AZURE_OPENAI_KEY\")\n",
    "AZURE_OPENAI_DEPLOYMENT=os.getenv(\"AZURE_OPENAI_DEPLOYMENT\")\n",
    "AZURE_STORAGE_CONNECTION=os.getenv(\"AZURE_STORAGE_CONNECTION\")\n",
    "AZURE_OPENAI_EMBEDDING_MODEL=os.getenv(\"AZURE_OPENAI_EMBEDDING_MODEL\")\n",
    "AZURE_AI_MULTISERVICE_KEY=os.getenv(\"AZURE_AI_MULTISERVICE_KEY\")\n",
    "\n",
    "credential = AzureKeyCredential(AZURE_SEARCH_KEY)"
   ]
  },
  {
   "cell_type": "code",
   "execution_count": null,
   "id": "d2d8caa6",
   "metadata": {},
   "outputs": [],
   "source": [
    "from azure.search.documents import SearchClient\n",
    "from azure.search.documents.models import VectorizableTextQuery\n",
    "\n",
    "# Vector Search using text-to-vector conversion of the query string\n",
    "query = \"what's NASA's website?\"  \n",
    "index_name = \"py-rag-training-idx\"\n",
    "\n",
    "\n",
    "search_client = SearchClient(endpoint=AZURE_SEARCH_SERVICE, credential=credential, index_name=index_name)\n",
    "vector_query = VectorizableTextQuery(text=query, k_nearest_neighbors=50, fields=\"text_vector\")\n",
    "  \n",
    "results = search_client.search(  \n",
    "    search_text=query,  \n",
    "    vector_queries= [vector_query],\n",
    "    select=[\"chunk\"],\n",
    "    top=1\n",
    ")  \n",
    "  \n",
    "for result in results:  \n",
    "    print(f\"Score: {result['@search.score']}\")\n",
    "    print(f\"Chunk: {result['chunk']}\")"
   ]
  }
 ],
 "metadata": {
  "kernelspec": {
   "display_name": ".venv",
   "language": "python",
   "name": "python3"
  },
  "language_info": {
   "codemirror_mode": {
    "name": "ipython",
    "version": 3
   },
   "file_extension": ".py",
   "mimetype": "text/x-python",
   "name": "python",
   "nbconvert_exporter": "python",
   "pygments_lexer": "ipython3",
   "version": "3.11.11"
  }
 },
 "nbformat": 4,
 "nbformat_minor": 5
}

{
 "cells": [
  {
   "cell_type": "code",
   "execution_count": 1,
   "id": "129a4065",
   "metadata": {},
   "outputs": [],
   "source": [
    "from azure.core.credentials import AzureKeyCredential\n",
    "from dotenv import load_dotenv\n",
    "\n",
    "import os"
   ]
  },
  {
   "cell_type": "code",
   "execution_count": 2,
   "id": "81dfe481",
   "metadata": {},
   "outputs": [],
   "source": [
    "load_dotenv(override=True)\n",
    "\n",
    "AZURE_SEARCH_SERVICE=os.getenv(\"AZURE_SEARCH_SERVICE\")\n",
    "AZURE_SEARCH_KEY=os.getenv(\"AZURE_SEARCH_KEY\")\n",
    "AZURE_OPENAI_ENDPOINT=os.getenv(\"AZURE_OPENAI_ENDPOINT\")\n",
    "AZURE_OPENAI_VERSION=os.getenv(\"AZURE_OPENAI_VERSION\")\n",
    "AZURE_OPENAI_KEY=os.getenv(\"AZURE_OPENAI_API_KEY\")\n",
    "AZURE_OPENAI_DEPLOYMENT=os.getenv(\"AZURE_OPENAI_DEPLOYMENT_NAME\")\n",
    "AZURE_STORAGE_CONNECTION=os.getenv(\"AZURE_STORAGE_CONNECTION\")\n",
    "AZURE_OPENAI_EMBEDDING_MODEL=os.getenv(\"AZURE_OPENAI_EMBEDDING_DEPLOYMENT_NAME\")\n",
    "\n",
    "credential = AzureKeyCredential(AZURE_SEARCH_KEY)"
   ]
  },
  {
   "cell_type": "code",
   "execution_count": 3,
   "id": "2e122b6a",
   "metadata": {},
   "outputs": [],
   "source": [
    "from azure.search.documents import SearchClient\n",
    "from openai import AzureOpenAI\n",
    "\n",
    "index_name = \"py-rag-training-idx\"\n",
    "\n",
    "openai_client = AzureOpenAI(\n",
    "  api_key = AZURE_OPENAI_KEY,  \n",
    "  api_version = AZURE_OPENAI_VERSION,\n",
    "  azure_endpoint =AZURE_OPENAI_ENDPOINT,\n",
    "  azure_deployment=AZURE_OPENAI_DEPLOYMENT,\n",
    ")\n",
    "\n",
    "search_client = SearchClient(\n",
    "     endpoint=AZURE_SEARCH_SERVICE,\n",
    "     index_name=index_name,\n",
    "     credential=credential\n",
    " )\n",
    "\n",
    "GROUNDED_PROMPT=\"\"\"\n",
    "You are an AI assistant that helps users learn from the information found in the source material.\n",
    "Answer the query using only the sources provided below.\n",
    "Use bullets if the answer has multiple points.\n",
    "If the answer is longer than 3 sentences, provide a summary.\n",
    "Answer ONLY with the facts listed in the list of sources below. Cite your source when you answer the question\n",
    "If there isn't enough information below, say you don't know.\n",
    "Do not generate answers that don't use the sources below.\n",
    "Query: {query}\n",
    "Sources:\\n{sources}\n",
    "\"\"\""
   ]
  },
  {
   "cell_type": "code",
   "execution_count": 4,
   "id": "41bab3b9",
   "metadata": {},
   "outputs": [],
   "source": [
    "from azure.search.documents.models import VectorizableTextQuery\n",
    "\n",
    "query=\"What's the NASA earth book about?\"\n",
    "vector_query = VectorizableTextQuery(text=query, k_nearest_neighbors=50, fields=\"text_vector\")\n",
    "\n",
    "search_results = search_client.search(\n",
    "    search_text=query,\n",
    "    vector_queries= [vector_query],\n",
    "    select=[\"title\", \"chunk\", \"locations\"],\n",
    "    top=5,\n",
    ")\n",
    "\n",
    "sources_formatted = \"=================\\n\".join([f'TITLE: {document[\"title\"]}, CONTENT: {document[\"chunk\"]}, LOCATIONS: {document[\"locations\"]}' for document in search_results])"
   ]
  },
  {
   "cell_type": "code",
   "execution_count": 5,
   "id": "55e794e3",
   "metadata": {},
   "outputs": [
    {
     "name": "stdout",
     "output_type": "stream",
     "text": [
      "- The NASA Earth book presents inspiring satellite images of Earth that tell a story of our 4.5-billion-year-old planet, highlighting the dynamic features of land, wind, water, ice, and air as seen from above (page-8.pdf).\n",
      "- The images and their scientific context emphasize that our planet is as compelling as any fiction, aiming to inspire readers by showing the beauty and complexity of Earth from space (page-8.pdf).\n",
      "- The book is a collaborative work involving writers, reporters, image designers, and scientists, all working to make scientific imagery and data accessible to the public (page-171.pdf).\n",
      "- The book offers a satellite-based perspective of Earth, continuing NASA’s mission to help people explore and understand our planet (page-8.pdf).\n",
      "- Summary: The NASA Earth book uses inspiring satellite imagery to celebrate Earth’s natural wonders, providing a scientific and artistic look at our home planet as seen from space, with the goal of making this perspective accessible and inspiring for all readers (page-8.pdf, page-171.pdf).\n"
     ]
    }
   ],
   "source": [
    "response = openai_client.chat.completions.create(\n",
    "    messages=[\n",
    "        {\n",
    "            \"role\": \"user\",\n",
    "            \"content\": GROUNDED_PROMPT.format(query=query, sources=sources_formatted)\n",
    "        }\n",
    "    ],\n",
    "    model=AZURE_OPENAI_DEPLOYMENT,\n",
    ")\n",
    "\n",
    "print(response.choices[0].message.content)"
   ]
  },
  {
   "cell_type": "code",
   "execution_count": 6,
   "id": "c4e1a757",
   "metadata": {},
   "outputs": [
    {
     "name": "stdout",
     "output_type": "stream",
     "text": [
      "- Marine stratocumulus clouds are a type of low-level cloud formation that is specific to oceans and large bodies of water. They are essentially fog and are a persistent feature off the coast of Peru and Chile, developing most often during the winter and early spring. Prevailing winds can sometimes push these marine stratocumulus clouds inland through valleys that open to the ocean, but they are often blocked by coastal mountains and hills. (page-15.pdf)\n",
      "- Another type of cloud formation that can form over oceans is the undular bore or solitary wave, which is produced when air masses from land and the ocean collide, such as off the coast of Mauritania. This interaction creates a wave structure in the atmosphere, with parts favorable for cloud formation. (page-23.pdf)\n",
      "\n",
      "Summary:\n",
      "There are cloud formations specific to oceans and large bodies of water, including persistent marine stratocumulus clouds (essentially fog over the Pacific coast of Peru and Chile) and atmospheric waves like undular bores created by the interaction of land and ocean air masses (such as off Mauritania). (page-15.pdf, page-23.pdf)\n"
     ]
    }
   ],
   "source": [
    "query=\"Are there any cloud formations specific to oceans and large bodies of water?\"\n",
    "vector_query = VectorizableTextQuery(text=query, k_nearest_neighbors=50, fields=\"text_vector\")\n",
    "\n",
    "search_results = search_client.search(\n",
    "    search_text=query,\n",
    "    vector_queries= [vector_query],\n",
    "    select=[\"title\", \"chunk\", \"locations\"],\n",
    "    top=5,\n",
    ")\n",
    "\n",
    "sources_formatted = \"=================\\n\".join([f'TITLE: {document[\"title\"]}, CONTENT: {document[\"chunk\"]}, LOCATIONS: {document[\"locations\"]}' for document in search_results])\n",
    "\n",
    "response = openai_client.chat.completions.create(\n",
    "    messages=[\n",
    "        {\n",
    "            \"role\": \"user\",\n",
    "            \"content\": GROUNDED_PROMPT.format(query=query, sources=sources_formatted)\n",
    "        }\n",
    "    ],\n",
    "    model=AZURE_OPENAI_DEPLOYMENT\n",
    ")\n",
    "\n",
    "print(response.choices[0].message.content)"
   ]
  }
 ],
 "metadata": {
  "kernelspec": {
   "display_name": ".venv",
   "language": "python",
   "name": "python3"
  },
  "language_info": {
   "codemirror_mode": {
    "name": "ipython",
    "version": 3
   },
   "file_extension": ".py",
   "mimetype": "text/x-python",
   "name": "python",
   "nbconvert_exporter": "python",
   "pygments_lexer": "ipython3",
   "version": "3.11.11"
  }
 },
 "nbformat": 4,
 "nbformat_minor": 5
}

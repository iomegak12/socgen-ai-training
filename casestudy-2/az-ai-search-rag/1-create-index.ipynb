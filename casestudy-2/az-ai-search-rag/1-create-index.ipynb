{
 "cells": [
  {
   "cell_type": "code",
   "execution_count": null,
   "id": "697c81c2",
   "metadata": {},
   "outputs": [],
   "source": [
    "from azure.core.credentials import AzureKeyCredential\n",
    "from azure.identity import get_bearer_token_provider\n",
    "from azure.search.documents.indexes import SearchIndexClient\n",
    "from azure.search.documents.indexes.models import (\n",
    "    SearchField,\n",
    "    SearchFieldDataType,\n",
    "    VectorSearch,\n",
    "    HnswAlgorithmConfiguration,\n",
    "    VectorSearchProfile,\n",
    "    AzureOpenAIVectorizer,\n",
    "    AzureOpenAIVectorizerParameters,\n",
    "    SearchIndex\n",
    ")\n",
    "\n",
    "from dotenv import load_dotenv\n",
    "\n",
    "import os"
   ]
  },
  {
   "cell_type": "code",
   "execution_count": null,
   "id": "0ffe2209",
   "metadata": {},
   "outputs": [],
   "source": [
    "load_dotenv(override=True)\n",
    "\n",
    "AZURE_SEARCH_SERVICE=os.getenv(\"AZURE_SEARCH_SERVICE\")\n",
    "AZURE_SEARCH_KEY=os.getenv(\"AZURE_SEARCH_KEY\")\n",
    "AZURE_OPENAI_ENDPOINT=os.getenv(\"AZURE_OPENAI_ENDPOINT\")\n",
    "AZURE_OPENAI_VERSION=os.getenv(\"AZURE_OPENAI_VERSION\")\n",
    "AZURE_OPENAI_KEY=os.getenv(\"AZURE_OPENAI_KEY\")\n",
    "AZURE_OPENAI_DEPLOYMENT=os.getenv(\"AZURE_OPENAI_DEPLOYMENT\")\n",
    "AZURE_STORAGE_CONNECTION=os.getenv(\"AZURE_STORAGE_CONNECTION\")\n",
    "AZURE_OPENAI_EMBEDDING_MODEL=os.getenv(\"AZURE_OPENAI_EMBEDDING_MODEL\")"
   ]
  },
  {
   "cell_type": "code",
   "execution_count": null,
   "id": "5a4afb92",
   "metadata": {},
   "outputs": [],
   "source": [
    "credential = AzureKeyCredential(AZURE_SEARCH_KEY)\n",
    "\n",
    "index_name = \"py-rag-training-idx\"\n",
    "index_client = SearchIndexClient(\n",
    "    endpoint=AZURE_SEARCH_SERVICE, credential=credential)\n",
    "fields = [\n",
    "    SearchField(name=\"parent_id\", type=SearchFieldDataType.String),\n",
    "    SearchField(name=\"title\", type=SearchFieldDataType.String),\n",
    "    SearchField(name=\"locations\",\n",
    "                type=SearchFieldDataType.Collection(\n",
    "                    SearchFieldDataType.String),\n",
    "                filterable=True),\n",
    "    SearchField(name=\"chunk_id\",\n",
    "                type=SearchFieldDataType.String,\n",
    "                key=True,\n",
    "                sortable=True,\n",
    "                filterable=True,\n",
    "                facetable=True,\n",
    "                analyzer_name=\"keyword\"),\n",
    "    SearchField(name=\"chunk\", type=SearchFieldDataType.String,\n",
    "                sortable=False,\n",
    "                filterable=False,\n",
    "                facetable=False),\n",
    "    SearchField(name=\"text_vector\",\n",
    "                type=SearchFieldDataType.Collection(\n",
    "                    SearchFieldDataType.Single),\n",
    "                vector_search_dimensions=1024,\n",
    "                vector_search_profile_name=\"myHnswProfile\")\n",
    "]\n",
    "\n",
    "vector_search = VectorSearch(\n",
    "    algorithms=[\n",
    "        HnswAlgorithmConfiguration(name=\"myHnsw\"),\n",
    "    ],\n",
    "    profiles=[\n",
    "        VectorSearchProfile(\n",
    "            name=\"myHnswProfile\",\n",
    "            algorithm_configuration_name=\"myHnsw\",\n",
    "            vectorizer_name=\"myOpenAI\",\n",
    "        )\n",
    "    ],\n",
    "    vectorizers=[\n",
    "        AzureOpenAIVectorizer(\n",
    "            vectorizer_name=\"myOpenAI\",\n",
    "            kind=\"azureOpenAI\",\n",
    "            parameters=AzureOpenAIVectorizerParameters(\n",
    "                resource_url=AZURE_OPENAI_ENDPOINT,\n",
    "                api_key=AZURE_OPENAI_KEY,\n",
    "                deployment_name=AZURE_OPENAI_EMBEDDING_MODEL,\n",
    "                model_name=AZURE_OPENAI_EMBEDDING_MODEL\n",
    "            ),\n",
    "        ),\n",
    "    ],\n",
    ")"
   ]
  },
  {
   "cell_type": "code",
   "execution_count": null,
   "id": "b1094911",
   "metadata": {},
   "outputs": [],
   "source": [
    "index = SearchIndex(name=index_name, fields=fields, vector_search=vector_search)  \n",
    "result = index_client.create_or_update_index(index)  \n",
    "\n",
    "print(f\"{result.name} created\")  "
   ]
  }
 ],
 "metadata": {
  "kernelspec": {
   "display_name": ".venv",
   "language": "python",
   "name": "python3"
  },
  "language_info": {
   "codemirror_mode": {
    "name": "ipython",
    "version": 3
   },
   "file_extension": ".py",
   "mimetype": "text/x-python",
   "name": "python",
   "nbconvert_exporter": "python",
   "pygments_lexer": "ipython3",
   "version": "3.11.11"
  }
 },
 "nbformat": 4,
 "nbformat_minor": 5
}
